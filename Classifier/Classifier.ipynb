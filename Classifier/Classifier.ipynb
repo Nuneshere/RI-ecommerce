{
 "cells": [
  {
   "cell_type": "code",
   "execution_count": 169,
   "metadata": {},
   "outputs": [],
   "source": [
    "%run tools\n",
    "from tools import *\n",
    "from sklearn.model_selection import train_test_split\n",
    "from sklearn.ensemble import AdaBoostClassifier\n",
    "import requests\n",
    "from bs4 import BeautifulSoup\n",
    "import re\n",
    "import nltk\n",
    "from nltk.corpus import stopwords"
   ]
  },
  {
   "cell_type": "code",
   "execution_count": 170,
   "metadata": {},
   "outputs": [],
   "source": [
    "# carregando a base de dados\n",
    "df = load_database()\n",
    "# criando o modelo\n",
    "vocabulary, model = bag_of_words(df['content'].values)\n",
    "# vocabulary = tf_idf(df['content'].values)"
   ]
  },
  {
   "cell_type": "code",
   "execution_count": 171,
   "metadata": {},
   "outputs": [
    {
     "data": {
      "text/plain": [
       "AdaBoostClassifier(algorithm='SAMME.R', base_estimator=None, learning_rate=0.5,\n",
       "                   n_estimators=1000, random_state=None)"
      ]
     },
     "execution_count": 171,
     "metadata": {},
     "output_type": "execute_result"
    }
   ],
   "source": [
    "X = vocabulary.toarray()\n",
    "Y = df.label.values\n",
    "\n",
    "classifier = AdaBoostClassifier(n_estimators=1000, learning_rate=0.5)\n",
    "X_train, X_test, Y_train, Y_test = train_test_split(X, Y, test_size=0.33, random_state=42)\n",
    "#Treinar o classificador\n",
    "classifier.fit(X_train, Y_train)"
   ]
  },
  {
   "cell_type": "code",
   "execution_count": 172,
   "metadata": {},
   "outputs": [],
   "source": [
    "#Rodar no conjunto de teste\n",
    "predict_labels = classifier.predict(X_test)\n",
    "#Avaliar o classificador\n",
    "scores = evaluate(Y_test, predict_labels)"
   ]
  },
  {
   "cell_type": "code",
   "execution_count": 173,
   "metadata": {},
   "outputs": [
    {
     "data": {
      "text/plain": [
       "(0.7160493827160493,\n",
       " 0.6666666666666666,\n",
       " 0.8205128205128205,\n",
       " 0.7356321839080459)"
      ]
     },
     "execution_count": 173,
     "metadata": {},
     "output_type": "execute_result"
    }
   ],
   "source": [
    "scores"
   ]
  },
  {
   "cell_type": "code",
   "execution_count": 167,
   "metadata": {},
   "outputs": [],
   "source": [
    "STOPWORDS = set(stopwords.words(\"portuguese\"))\n",
    "def clean(text):\n",
    "    d = re.sub(\"[^a-zA-Z]\", \" \", text)\n",
    "    words = d.lower().split()\n",
    "    words = [w for w in words if w not in STOPWORDS]\n",
    "    words = ' '.join(words)\n",
    "    return words\n",
    "\n",
    "def content_page(url):\n",
    "    req = requests.get(url)\n",
    "    content = req.text\n",
    "    s = BeautifulSoup(content, 'html.parser')\n",
    "    data = s.find_all(text=True)\n",
    "    data = ''.join(data)\n",
    "    text = data.replace('\\n', ' ').replace('\\r', '').strip()\n",
    "    text = ' '.join(text.split())\n",
    "    return clean(text)"
   ]
  },
  {
   "cell_type": "code",
   "execution_count": 166,
   "metadata": {},
   "outputs": [],
   "source": [
    "def classify_page(page):\n",
    "    #Pegar o content de page\n",
    "    text = content_page(page)\n",
    "    #Rodar o classificador treinado para esta página\n",
    "    features = model.transform([text])\n",
    "    return classifier.predict(features.toarray())[0]"
   ]
  },
  {
   "cell_type": "code",
   "execution_count": null,
   "metadata": {},
   "outputs": [],
   "source": []
  }
 ],
 "metadata": {
  "kernelspec": {
   "display_name": "Python 3",
   "language": "python",
   "name": "python3"
  },
  "language_info": {
   "codemirror_mode": {
    "name": "ipython",
    "version": 3
   },
   "file_extension": ".py",
   "mimetype": "text/x-python",
   "name": "python",
   "nbconvert_exporter": "python",
   "pygments_lexer": "ipython3",
   "version": "3.7.1"
  }
 },
 "nbformat": 4,
 "nbformat_minor": 2
}
