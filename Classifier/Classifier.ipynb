{
 "cells": [
  {
   "cell_type": "code",
   "execution_count": 52,
   "metadata": {},
   "outputs": [],
   "source": [
    "%run tools\n",
    "from tools import *\n",
    "from sklearn.model_selection import train_test_split\n",
    "from sklearn.ensemble import RandomForestClassifier\n",
    "from sklearn.tree import DecisionTreeClassifier\n",
    "import requests\n",
    "from bs4 import BeautifulSoup\n",
    "import re\n",
    "import nltk\n",
    "from nltk.corpus import stopwords\n",
    "import glob\n",
    "import time"
   ]
  },
  {
   "cell_type": "code",
   "execution_count": 54,
   "metadata": {},
   "outputs": [],
   "source": [
    "# carregando a base de dados\n",
    "df = load_database()\n",
    "# criando o modelo\n",
    "vocabulary, model = bag_of_words(df['content'].values)"
   ]
  },
  {
   "cell_type": "code",
   "execution_count": 55,
   "metadata": {},
   "outputs": [
    {
     "data": {
      "text/plain": [
       "DecisionTreeClassifier(class_weight=None, criterion='gini', max_depth=None,\n",
       "                       max_features=None, max_leaf_nodes=None,\n",
       "                       min_impurity_decrease=0.0, min_impurity_split=None,\n",
       "                       min_samples_leaf=1, min_samples_split=2,\n",
       "                       min_weight_fraction_leaf=0.0, presort=False,\n",
       "                       random_state=None, splitter='best')"
      ]
     },
     "execution_count": 55,
     "metadata": {},
     "output_type": "execute_result"
    }
   ],
   "source": [
    "X = vocabulary.toarray()\n",
    "Y = df.label.values\n",
    "\n",
    "classifier = DecisionTreeClassifier()\n",
    "X_train, X_test, Y_train, Y_test = train_test_split(X, Y, test_size=0.33, random_state=42)\n",
    "#Treinar o classificador\n",
    "classifier.fit(X_train, Y_train)"
   ]
  },
  {
   "cell_type": "code",
   "execution_count": 56,
   "metadata": {},
   "outputs": [],
   "source": [
    "#Rodar no conjunto de teste\n",
    "predict_labels = classifier.predict(X_test)\n",
    "#Avaliar o classificador\n",
    "scores = evaluate(Y_test, predict_labels)"
   ]
  },
  {
   "cell_type": "code",
   "execution_count": 57,
   "metadata": {},
   "outputs": [
    {
     "data": {
      "text/plain": [
       "[0.8148148148148148,\n",
       " 0.7727272727272727,\n",
       " 0.8717948717948718,\n",
       " 0.8192771084337349]"
      ]
     },
     "execution_count": 57,
     "metadata": {},
     "output_type": "execute_result"
    }
   ],
   "source": [
    "scores"
   ]
  },
  {
   "cell_type": "code",
   "execution_count": 9,
   "metadata": {},
   "outputs": [],
   "source": [
    "STOPWORDS = set(stopwords.words(\"portuguese\"))\n",
    "def clean(text):\n",
    "    d = re.sub(\"[^a-zA-Z]\", \" \", text)\n",
    "    words = d.lower().split()\n",
    "    words = [w for w in words if w not in STOPWORDS]\n",
    "    words = ' '.join(words)\n",
    "    return words\n",
    "\n",
    "def content_page(url):\n",
    "    req = requests.get(url)\n",
    "    content = req.text\n",
    "    s = BeautifulSoup(content, 'html.parser')\n",
    "    data = s.find_all(text=True)\n",
    "    data = ''.join(data)\n",
    "    text = data.replace('\\n', ' ').replace('\\r', '').strip()\n",
    "    text = ' '.join(text.split())\n",
    "    return clean(text)"
   ]
  },
  {
   "cell_type": "code",
   "execution_count": 10,
   "metadata": {},
   "outputs": [],
   "source": [
    "def classify_page(page):\n",
    "    #Pegar o content de page\n",
    "    text = content_page(page)\n",
    "    #Rodar o classificador treinado para esta página\n",
    "    features = model.transform([text])\n",
    "    return classifier.predict(features.toarray())[0]"
   ]
  },
  {
   "cell_type": "code",
   "execution_count": 13,
   "metadata": {},
   "outputs": [],
   "source": [
    "bfs = glob.glob(\"../Crawler/Bfs/*.csv\")\n",
    "heuristc = glob.glob(\"../Crawler/Heuristic/*.csv\")\n",
    "crawlers = [bfs, heuristc]"
   ]
  },
  {
   "cell_type": "code",
   "execution_count": 24,
   "metadata": {},
   "outputs": [],
   "source": [
    "for i, crawler in enumerate(crawlers):\n",
    "    t = \"bfs\" if i == 0 else \"heuristic\"\n",
    "    for csv in crawler:\n",
    "        results = []\n",
    "        df = pd.read_csv(bfs[0]).transpose()\n",
    "        df = df.reset_index()\n",
    "        df.columns = [\"Links\"]\n",
    "\n",
    "        for index, line in enumerate(df.values):\n",
    "        print(\"Classificando \" + line[0])\n",
    "        print((index / df.shape[0]) * 100, \"%\")\n",
    "        try:\n",
    "            results.append([line[0], classify_page(line[0])])\n",
    "            time.sleep(1)\n",
    "        except:\n",
    "            print(\"Deu pau em: \", line)\n",
    "\n",
    "        dataframe = pd.DataFrame(results, columns=[\"url\", \"label\"])\n",
    "        store = csv.split(\"/\")[3]\n",
    "        dataframe.to_csv(path_or_buf=f\"../Results/re_{t}_{store}\", index=False)"
   ]
  },
  {
   "cell_type": "code",
   "execution_count": null,
   "metadata": {},
   "outputs": [],
   "source": []
  }
 ],
 "metadata": {
  "kernelspec": {
   "display_name": "Python 3",
   "language": "python",
   "name": "python3"
  },
  "language_info": {
   "codemirror_mode": {
    "name": "ipython",
    "version": 3
   },
   "file_extension": ".py",
   "mimetype": "text/x-python",
   "name": "python",
   "nbconvert_exporter": "python",
   "pygments_lexer": "ipython3",
   "version": "3.7.1"
  }
 },
 "nbformat": 4,
 "nbformat_minor": 2
}
